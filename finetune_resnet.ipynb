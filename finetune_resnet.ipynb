{
 "cells": [
  {
   "cell_type": "markdown",
   "metadata": {},
   "source": [
    "To finetune the Resnet model, we first generate adversarial training images and adversarial validation images by the following commands:\n",
    "```\n",
    "python launch_resnet_attack.py --batch_num 20 --batch_size 100 --results 'adv_train_images'\n",
    "python launch_resnet_attack.py --batch_num 20 --batch_size 100 --results 'adv_val_images' --seed 0\n",
    "```\n",
    "The params are all default.\n",
    "Then we use `adv_train_images` to train the Resnet model and save it.\n"
   ]
  },
  {
   "cell_type": "code",
   "execution_count": 2,
   "metadata": {},
   "outputs": [
    {
     "name": "stdout",
     "output_type": "stream",
     "text": [
      "Loading model...\n",
      "Loading data...\n",
      "===Launching PGD attack on 20 batches of data===\n",
      "Attack configs: eps = 0.03137254901960784, alpha = 0.00784313725490196, steps = 20, batch size = 100\n",
      "100%|███████████████████████████████████████████| 20/20 [00:50<00:00,  2.54s/it]\n",
      "Accuracy on original images: 92.7%\n",
      "Accuracy on adversarial images: 2.0500000000000003%\n",
      "Loading model...\n",
      "Loading data...\n",
      "===Launching PGD attack on 20 batches of data===\n",
      "Attack configs: eps = 0.03137254901960784, alpha = 0.00784313725490196, steps = 20, batch size = 100\n",
      " 60%|█████████████████████████▊                 | 12/20 [00:34<00:15,  2.00s/it]/home/guest/zsf/conda3/envs/xz/lib/python3.11/site-packages/PIL/TiffImagePlugin.py:900: UserWarning: Corrupt EXIF data.  Expecting to read 2 bytes but only got 0. \n",
      "  warnings.warn(str(msg))\n",
      "100%|███████████████████████████████████████████| 20/20 [00:49<00:00,  2.46s/it]\n",
      "Accuracy on original images: 91.75%\n",
      "Accuracy on adversarial images: 2.75%\n"
     ]
    }
   ],
   "source": [
    "!python launch_resnet_attack.py --batch_num 20 --batch_size 100 --results 'adv_train_images'\n",
    "!python launch_resnet_attack.py --batch_num 20 --batch_size 100 --results 'adv_val_images' --seed 0"
   ]
  },
  {
   "cell_type": "code",
   "execution_count": 3,
   "metadata": {},
   "outputs": [
    {
     "name": "stderr",
     "output_type": "stream",
     "text": [
      "/tmp/ipykernel_1476066/1210653890.py:12: FutureWarning: You are using `torch.load` with `weights_only=False` (the current default value), which uses the default pickle module implicitly. It is possible to construct malicious pickle data which will execute arbitrary code during unpickling (See https://github.com/pytorch/pytorch/blob/main/SECURITY.md#untrusted-models for more details). In a future release, the default value for `weights_only` will be flipped to `True`. This limits the functions that could be executed during unpickling. Arbitrary objects will no longer be allowed to be loaded via this mode unless they are explicitly allowlisted by the user via `torch.serialization.add_safe_globals`. We recommend you start setting `weights_only=True` for any use case where you don't have full control of the loaded file. Please open an issue on GitHub for any issues related to this experimental feature.\n",
      "  checkpoint = torch.load(ADV_TRAIN_PATH)\n"
     ]
    },
    {
     "name": "stdout",
     "output_type": "stream",
     "text": [
      "Epoch [1/10], Loss: 4.3065\n",
      "Epoch [2/10], Loss: 1.4645\n",
      "Epoch [3/10], Loss: 0.8922\n",
      "Epoch [4/10], Loss: 0.6378\n",
      "Epoch [5/10], Loss: 0.4642\n",
      "Epoch [6/10], Loss: 0.3552\n",
      "Epoch [7/10], Loss: 0.2739\n",
      "Epoch [8/10], Loss: 0.2285\n",
      "Epoch [9/10], Loss: 0.1837\n",
      "Epoch [10/10], Loss: 0.1546\n"
     ]
    }
   ],
   "source": [
    "import torch\n",
    "import torch.nn as nn\n",
    "import torch.optim as optim\n",
    "from torchvision.models import resnet50, ResNet50_Weights\n",
    "from torch.utils.data import DataLoader, TensorDataset\n",
    "\n",
    "ADV_TRAIN_PATH = './results/adv_train_images'\n",
    "BATCH_SIZE = 100\n",
    "BATCH_NUM = 20\n",
    "torch.manual_seed(1234)\n",
    "\n",
    "checkpoint = torch.load(ADV_TRAIN_PATH)\n",
    "adv_images = checkpoint['adv_images']\n",
    "labels = checkpoint['labels']\n",
    "\n",
    "dataset = TensorDataset(adv_images, labels)\n",
    "dataloader = DataLoader(dataset, batch_size=BATCH_SIZE, shuffle=True)\n",
    "\n",
    "weights = ResNet50_Weights.DEFAULT\n",
    "model = resnet50(weights=weights)\n",
    "device = torch.device('cuda' if torch.cuda.is_available() else 'cpu')\n",
    "model = model.to(device)\n",
    "\n",
    "criterion = nn.CrossEntropyLoss()\n",
    "optimizer = optim.SGD(model.parameters(), lr=0.001, momentum=0.9)\n",
    "\n",
    "num_epochs = 10\n",
    "\n",
    "for epoch in range(num_epochs):\n",
    "    model.train()\n",
    "    running_loss = 0.0\n",
    "    for inputs, labels in dataloader:\n",
    "        inputs, labels = inputs.to(device), labels.to(device)\n",
    "\n",
    "        optimizer.zero_grad()\n",
    "\n",
    "        outputs = model(inputs)\n",
    "        loss = criterion(outputs, labels)\n",
    "        loss.backward()\n",
    "        optimizer.step()\n",
    "\n",
    "        running_loss += loss.item()\n",
    "    print(f'Epoch [{epoch+1}/{num_epochs}], Loss: {running_loss/len(dataloader):.4f}')\n",
    "\n",
    "torch.save(model.state_dict(), 'results/resnet50_finetuned.pth')"
   ]
  },
  {
   "cell_type": "markdown",
   "metadata": {},
   "source": [
    "We load the finetuned model and use validation images to test it.\n",
    "\n",
    "The accuracy on adversarial validation images reaches 73.05%, higher than the model without finetuned (2.75%)."
   ]
  },
  {
   "cell_type": "code",
   "execution_count": 4,
   "metadata": {},
   "outputs": [
    {
     "name": "stderr",
     "output_type": "stream",
     "text": [
      "/home/guest/zsf/conda3/envs/xz/lib/python3.11/site-packages/torchvision/models/_utils.py:208: UserWarning: The parameter 'pretrained' is deprecated since 0.13 and may be removed in the future, please use 'weights' instead.\n",
      "  warnings.warn(\n",
      "/home/guest/zsf/conda3/envs/xz/lib/python3.11/site-packages/torchvision/models/_utils.py:223: UserWarning: Arguments other than a weight enum or `None` for 'weights' are deprecated since 0.13 and may be removed in the future. The current behavior is equivalent to passing `weights=None`.\n",
      "  warnings.warn(msg)\n",
      "/tmp/ipykernel_1476066/1684913400.py:2: FutureWarning: You are using `torch.load` with `weights_only=False` (the current default value), which uses the default pickle module implicitly. It is possible to construct malicious pickle data which will execute arbitrary code during unpickling (See https://github.com/pytorch/pytorch/blob/main/SECURITY.md#untrusted-models for more details). In a future release, the default value for `weights_only` will be flipped to `True`. This limits the functions that could be executed during unpickling. Arbitrary objects will no longer be allowed to be loaded via this mode unless they are explicitly allowlisted by the user via `torch.serialization.add_safe_globals`. We recommend you start setting `weights_only=True` for any use case where you don't have full control of the loaded file. Please open an issue on GitHub for any issues related to this experimental feature.\n",
      "  model.load_state_dict(torch.load('results/resnet50_finetuned.pth'))\n",
      "/tmp/ipykernel_1476066/1684913400.py:9: FutureWarning: You are using `torch.load` with `weights_only=False` (the current default value), which uses the default pickle module implicitly. It is possible to construct malicious pickle data which will execute arbitrary code during unpickling (See https://github.com/pytorch/pytorch/blob/main/SECURITY.md#untrusted-models for more details). In a future release, the default value for `weights_only` will be flipped to `True`. This limits the functions that could be executed during unpickling. Arbitrary objects will no longer be allowed to be loaded via this mode unless they are explicitly allowlisted by the user via `torch.serialization.add_safe_globals`. We recommend you start setting `weights_only=True` for any use case where you don't have full control of the loaded file. Please open an issue on GitHub for any issues related to this experimental feature.\n",
      "  checkpoint = torch.load(ADV_VAL_PATH)\n"
     ]
    },
    {
     "name": "stdout",
     "output_type": "stream",
     "text": [
      "Accuracy on adversarial validation images: 73.05%\n"
     ]
    }
   ],
   "source": [
    "model = resnet50(pretrained=False)\n",
    "model.load_state_dict(torch.load('results/resnet50_finetuned.pth'))\n",
    "model = model.to(device)\n",
    "\n",
    "ADV_VAL_PATH = './results/adv_val_images'\n",
    "BATCH_SIZE = 100\n",
    "BATCH_NUM = 20\n",
    "\n",
    "checkpoint = torch.load(ADV_VAL_PATH)\n",
    "val_images = checkpoint['adv_images']\n",
    "labels = checkpoint['labels']\n",
    "\n",
    "dataset = TensorDataset(val_images, labels)\n",
    "dataloader = DataLoader(dataset, batch_size=BATCH_SIZE, shuffle=True)\n",
    "\n",
    "model.eval()\n",
    "correct = 0\n",
    "total = 0\n",
    "\n",
    "for inputs, labels in dataloader:\n",
    "  inputs, labels = inputs.to(device), labels.to(device)\n",
    "  with torch.no_grad():\n",
    "    outputs = model(inputs).softmax(1)\n",
    "    predictions = outputs.argmax(dim=1)\n",
    "  correct += torch.sum(predictions == labels).item()\n",
    "  total += len(labels)\n",
    "\n",
    "\n",
    "acc = correct / total\n",
    "print(f\"Accuracy on adversarial validation images: {acc * 100}%\")"
   ]
  }
 ],
 "metadata": {
  "kernelspec": {
   "display_name": "xz",
   "language": "python",
   "name": "python3"
  },
  "language_info": {
   "codemirror_mode": {
    "name": "ipython",
    "version": 3
   },
   "file_extension": ".py",
   "mimetype": "text/x-python",
   "name": "python",
   "nbconvert_exporter": "python",
   "pygments_lexer": "ipython3",
   "version": "3.11.10"
  }
 },
 "nbformat": 4,
 "nbformat_minor": 2
}
